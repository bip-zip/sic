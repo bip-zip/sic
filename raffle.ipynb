{
 "cells": [
  {
   "cell_type": "code",
   "execution_count": 3,
   "id": "a30afa0e-201b-4cea-b585-d64f2658d6ca",
   "metadata": {},
   "outputs": [
    {
     "name": "stdout",
     "output_type": "stream",
     "text": [
      "Saron\n"
     ]
    }
   ],
   "source": [
    "import random\n",
    "name= ['mercy','namita','khushi','prashanta','prashant','prajwol','aashish',\n",
    "      'aashih pathak','aayush maharjan','alok','ameer','ayush thapa','benjamin','bibek',\n",
    "      'binay','bipan','bivash','divesh','menika','niben','nishan','raj','raman','rikesh','ritik',\n",
    "      'ronish','roshan','sahaj','samyak','sandip dulal','sandip thapa','saron','saurav','sujal']\n",
    "\n",
    "print(name[random.randint(0,len(name)-1)].title())"
   ]
  }
 ],
 "metadata": {
  "kernelspec": {
   "display_name": "Python 3 (ipykernel)",
   "language": "python",
   "name": "python3"
  },
  "language_info": {
   "codemirror_mode": {
    "name": "ipython",
    "version": 3
   },
   "file_extension": ".py",
   "mimetype": "text/x-python",
   "name": "python",
   "nbconvert_exporter": "python",
   "pygments_lexer": "ipython3",
   "version": "3.9.7"
  }
 },
 "nbformat": 4,
 "nbformat_minor": 5
}
